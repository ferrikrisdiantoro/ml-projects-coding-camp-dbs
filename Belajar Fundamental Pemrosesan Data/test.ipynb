{
 "cells": [
  {
   "cell_type": "code",
   "execution_count": 1,
   "id": "0e76647e",
   "metadata": {},
   "outputs": [],
   "source": [
    "import pandas as pd"
   ]
  },
  {
   "cell_type": "code",
   "execution_count": null,
   "id": "8c669676",
   "metadata": {},
   "outputs": [],
   "source": [
    "df = pd.read_csv('/mnt/d/Artificial Intellegence/Machine Learning/CodingCamp/Belajar Fundamental Pemrosesan Data/products.csv')"
   ]
  }
 ],
 "metadata": {
  "kernelspec": {
   "display_name": "env",
   "language": "python",
   "name": "python3"
  },
  "language_info": {
   "codemirror_mode": {
    "name": "ipython",
    "version": 3
   },
   "file_extension": ".py",
   "mimetype": "text/x-python",
   "name": "python",
   "nbconvert_exporter": "python",
   "pygments_lexer": "ipython3",
   "version": "3.10.12"
  }
 },
 "nbformat": 4,
 "nbformat_minor": 5
}
