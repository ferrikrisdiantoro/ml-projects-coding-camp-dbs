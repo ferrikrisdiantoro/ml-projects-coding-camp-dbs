{
 "cells": [
  {
   "cell_type": "code",
   "execution_count": 2,
   "metadata": {},
   "outputs": [
    {
     "name": "stdout",
     "output_type": "stream",
     "text": [
      "Scraping selesai. Data disimpan dalam /mnt/d/Artificial Intellegence/Machine Learning/CodingCamp/Proyek Analisis Sentimen/Telkom_Reviews.csv\n"
     ]
    }
   ],
   "source": [
    "from google_play_scraper import reviews, Sort\n",
    "import pandas as pd\n",
    "\n",
    "# Ganti dengan package name aplikasi yang ingin di-scrape\n",
    "app_package = 'com.telkomsel.telkomselcm'  # Contoh package name\n",
    "\n",
    "# Mengambil review dari Google Play Store\n",
    "review_data, _ = reviews(\n",
    "    app_package,\n",
    "    lang='id',  # Bahasa Indonesia\n",
    "    country='id',  # Negara Indonesia\n",
    "    count=50000,  # Jumlah review yang ingin diambil\n",
    ")\n",
    "\n",
    "# Mengonversi hasil ke DataFrame dengan kolom lengkap\n",
    "df = pd.DataFrame(review_data)[[\n",
    "    'reviewId', 'userName', 'userImage', 'content', 'score',\n",
    "    'thumbsUpCount', 'reviewCreatedVersion', 'at', 'replyContent',\n",
    "    'repliedAt', 'appVersion'\n",
    "]]\n",
    "\n",
    "# Simpan ke file CSV\n",
    "csv_filename = '/mnt/d/Artificial Intellegence/Machine Learning/CodingCamp/Proyek Analisis Sentimen/Telkom_Reviews.csv'\n",
    "df.to_csv(csv_filename, index=False, encoding='utf-8')\n",
    "\n",
    "print(f\"Scraping selesai. Data disimpan dalam {csv_filename}\")"
   ]
  }
 ],
 "metadata": {
  "kernelspec": {
   "display_name": "env",
   "language": "python",
   "name": "python3"
  },
  "language_info": {
   "codemirror_mode": {
    "name": "ipython",
    "version": 3
   },
   "file_extension": ".py",
   "mimetype": "text/x-python",
   "name": "python",
   "nbconvert_exporter": "python",
   "pygments_lexer": "ipython3",
   "version": "3.10.12"
  }
 },
 "nbformat": 4,
 "nbformat_minor": 2
}
